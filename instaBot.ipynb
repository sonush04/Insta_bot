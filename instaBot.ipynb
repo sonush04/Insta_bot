{
 "cells": [
  {
   "cell_type": "code",
   "execution_count": 17,
   "metadata": {},
   "outputs": [
    {
     "name": "stdout",
     "output_type": "stream",
     "text": [
      "['ppprakash3', 'newtonschoolofficial', 'lolpickupliness', 'resourcehub_nitap', 'carryminati', 'thesarcasticpage', 'jasleenroyal', 'mandeep_sheoran999', 'rajneeshmahala', 'ghantaa', 'naughtyworld_', 'lovebabbar1', 'chubby_foodie_bangalore', 'bangaloremyplatestory', 'being_bhookad', 'confused.aatma', 'lohithdatta.p', '_blogs7', 'preetham_1523', 'lalitshokeen1515', 'randeephooda', 'google', 'microsoft', 'veeravirat_18', 'gandu_mandal', 'just.lol.things', 'suprememusic__', 'dadhich_777', 'gulzaarchhaniwala', 'tdtinsta', 'talents_of_nit_ap', 'wordsmith._.21', 'harrdysandhu', 'ijassmanak', 'comedycollege', 'tedthestoner', 'adultsociety', 'funny', 'pakalupapitocamel', '6adass_', 'be_harami', 'epicfunnypage', 'memezar', 'achu___ettan', '9gag', 'pubity', 'rishu__198', 'muk8990', 'idiotic_sperm', 'prem.chand_3129', 'y_sowmya99', 'belkhedesanket', 'trolls_official', 'a.k.h.i.l_01__', 'mr_sonu_meena_', '_amit__poonia', 'aprigrah', 'vikashmeena103', 'mintu9324', 'rohit.sheoran.52', 'chandramouli.sivakumar', 'navaneethnaikbhai', '_mr.manikanta_18', 'sir.bash', 'chandu.kandavalli', 'insideusnitap', 'chutiyapa_begins_from_here', 'sindhukotla', 'prakriti_sharma21', 'thehawk3003', 'somveerrayla', 'the_engineer_bro', 'grewalpinky94', 'tejasnaps', 'innovative__world', 'innovative_coder', 'sarthi._.jain', 'azlan__here', 'navdeep.baneta', 'raghavjuyal', 'shifuji_jaihind', 'preetampoonia', '__mr__mukul', 'leaveruchikaleave', 'sunanda_ss', 'sharrymaan', 'mankirtaulakh', 'jassie.gill', 'officialgarrysandhu', 'yuvisofficial']\n"
     ]
    }
   ],
   "source": [
    "from selenium import webdriver\n",
    "import time\n",
    "\n",
    "class InstaBot:\n",
    "    def __init__(self,username,pswd):\n",
    "        self.username = username\n",
    "        self.pswd = pswd\n",
    "        self.driver = webdriver.Chrome()\n",
    "        self.driver.get(\"https://instagram.com\")\n",
    "        time.sleep(4)\n",
    "        self.driver.find_element_by_xpath(\"//input[@name=\\\"username\\\"]\").send_keys(username)\n",
    "        self.driver.find_element_by_xpath(\"//input[@name=\\\"password\\\"]\").send_keys(pswd)\n",
    "        self.driver.find_element_by_xpath('//button[@type = \"submit\"]').click()\n",
    "        time.sleep(5)\n",
    "        self.driver.find_element_by_xpath(\"//button[contains(text(), 'Not Now')]\").click()\n",
    "        time.sleep(5)\n",
    "        \n",
    "   \n",
    "        \n",
    "    def get_unfollowersz(self):\n",
    "        self.driver.find_element_by_xpath(\"//a[contains(@href,'/{}')]\".format(self.username)).click()\n",
    "        time.sleep(5)\n",
    "        self.driver.find_element_by_xpath(\"//a[contains(@href,'/following')]\").click()\n",
    "        time.sleep(5)\n",
    "        following = self.get_names()\n",
    "        self.driver.find_element_by_xpath(\"//a[contains(@href,'/followers')]\").click()\n",
    "        time.sleep(5)\n",
    "        followers = self.get_names()  \n",
    "        not_following_back = [user for user in following if user not in followers]\n",
    "        print(not_following_back)\n",
    "        \n",
    "    def get_names(self):\n",
    "        scroll_box = self.driver.find_element_by_xpath(\"/html/body/div[4]/div/div/div[2]\")\n",
    "        \n",
    "        prev_ht, curr_ht = 0, 1\n",
    "        while prev_ht != curr_ht:\n",
    "            prev_ht = curr_ht\n",
    "            time.sleep(1)\n",
    "            curr_ht = self.driver.execute_script(\"\"\"\n",
    "                    arguments[0].scrollTo(0,arguments[0].scrollHeight);\n",
    "                    return arguments[0].scrollHeight;\n",
    "                    \"\"\", scroll_box)\n",
    "        links = scroll_box.find_elements_by_tag_name('a')\n",
    "        names = [name.text for name in links if name.text != '']\n",
    "        time.sleep(2)\n",
    "        self.driver.find_element_by_xpath(\"/html/body/div[4]/div/div/div[1]/div/div[2]/button\").click()\n",
    "        return names\n",
    "     \n",
    "    \n",
    "        \n",
    "my_bot = InstaBot('sonu_sheoran0409', 'Vaish@100')\n",
    "my_bot.get_unfollowersz()\n",
    "\n",
    "\n"
   ]
  },
  {
   "cell_type": "code",
   "execution_count": null,
   "metadata": {},
   "outputs": [],
   "source": []
  },
  {
   "cell_type": "code",
   "execution_count": null,
   "metadata": {},
   "outputs": [],
   "source": []
  }
 ],
 "metadata": {
  "kernelspec": {
   "display_name": "Python 3",
   "language": "python",
   "name": "python3"
  },
  "language_info": {
   "codemirror_mode": {
    "name": "ipython",
    "version": 3
   },
   "file_extension": ".py",
   "mimetype": "text/x-python",
   "name": "python",
   "nbconvert_exporter": "python",
   "pygments_lexer": "ipython3",
   "version": "3.7.4"
  }
 },
 "nbformat": 4,
 "nbformat_minor": 2
}
